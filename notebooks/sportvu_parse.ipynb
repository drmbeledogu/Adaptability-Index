{
 "cells": [
  {
   "cell_type": "markdown",
   "metadata": {},
   "source": [
    "# Investigate SportVU/Play-by-Play Data\n",
    "This is the notebook that found the duplicated event data and the overlapping moments.\n",
    "It inspired the creation of the SportVUCleaner class"
   ]
  },
  {
   "cell_type": "markdown",
   "metadata": {},
   "source": [
    "## Import relevant packages"
   ]
  },
  {
   "cell_type": "code",
   "execution_count": 7,
   "metadata": {},
   "outputs": [],
   "source": [
    "import numpy as np\n",
    "import pandas as pd\n",
    "from copy import deepcopy\n",
    "from collections import Counter\n",
    "import matplotlib.pyplot as plt\n",
    "from datasets import load_dataset\n",
    "from sportypy.surfaces.basketball import NBACourt\n",
    "from nba_api.stats.endpoints import commonallplayers, playergamelog\n",
    "\n",
    "import warnings\n",
    "warnings.filterwarnings(\"ignore\")"
   ]
  },
  {
   "cell_type": "markdown",
   "metadata": {},
   "source": [
    "## Load combined play-by-play and sportvu tracking data from huggingface\n",
    "Details on the structure of the dataset can be found [here](https://huggingface.co/datasets/dcayton/nba_tracking_data_15_16)"
   ]
  },
  {
   "cell_type": "code",
   "execution_count": 6,
   "metadata": {},
   "outputs": [
    {
     "data": {
      "application/vnd.jupyter.widget-view+json": {
       "model_id": "64c8f300c0fd47dd8567fdbe70a210c0",
       "version_major": 2,
       "version_minor": 0
      },
      "text/plain": [
       "Generating train split: 0 examples [00:00, ? examples/s]"
      ]
     },
     "metadata": {},
     "output_type": "display_data"
    }
   ],
   "source": [
    "# Path to the dataset script\n",
    "script_path = '../scripts/nba_tracking_data_loader.py'\n",
    "\n",
    "test_name = \"12.30.2015.LAL.at.BOS.7z\"\n",
    "\n",
    "# Load the dataset\n",
    "dataset = load_dataset(script_path, name=test_name, keep_in_memory=False, trust_remote_code=True)\n",
    "hf_data = dataset['train']"
   ]
  },
  {
   "cell_type": "markdown",
   "metadata": {},
   "source": [
    "## Locate moments assigned to multiple events and determine de-duping rule\n",
    "\n",
    "Details about what each event number is is listed below:\n",
    "\n",
    "From the descriptions of the event types, it looks like these events map to the same moments because they are all in the same possession. I'm only interested in possessions that had a shot in it."
   ]
  },
  {
   "cell_type": "code",
   "execution_count": 8,
   "metadata": {},
   "outputs": [
    {
     "data": {
      "text/plain": [
       "{(1, 6),\n",
       " (1, 6, 8),\n",
       " (1, 6, 9),\n",
       " (1, 9),\n",
       " (1, 9, 8),\n",
       " (1, 13),\n",
       " (2, 1, 4),\n",
       " (2, 2, 4, 4),\n",
       " (2, 4),\n",
       " (2, 4, 1),\n",
       " (2, 4, 1, 6),\n",
       " (2, 4, 2, 4),\n",
       " (2, 4, 2, 4, 1),\n",
       " (2, 4, 2, 4, 5),\n",
       " (2, 4, 2, 4, 9),\n",
       " (2, 4, 6),\n",
       " (2, 4, 6, 8, 8),\n",
       " (2, 4, 8),\n",
       " (2, 13, 4),\n",
       " (3, 3),\n",
       " (3, 3, 4),\n",
       " (3, 3, 9),\n",
       " (3, 4),\n",
       " (3, 4, 3, 4),\n",
       " (3, 4, 8, 3),\n",
       " (3, 4, 8, 3, 9),\n",
       " (3, 8, 3),\n",
       " (3, 8, 3, 4),\n",
       " (3, 8, 3, 9),\n",
       " (3, 8, 8, 8, 3),\n",
       " (3, 8, 8, 8, 8),\n",
       " (5, 1),\n",
       " (5, 6),\n",
       " (5, 6, 18),\n",
       " (5, 8),\n",
       " (5, 8, 8, 8),\n",
       " (5, 13),\n",
       " (6, 5),\n",
       " (6, 8, 8),\n",
       " (6, 9),\n",
       " (8, 8),\n",
       " (8, 8, 3),\n",
       " (8, 8, 3, 4),\n",
       " (8, 8, 8),\n",
       " (9, 8)}"
      ]
     },
     "execution_count": 8,
     "metadata": {},
     "output_type": "execute_result"
    }
   ],
   "source": [
    "after_set = set()\n",
    "continuous_event = []\n",
    "for i in range(len(hf_data)-1):\n",
    "    current_type = hf_data[i]['event_info']['type']\n",
    "    if len(continuous_event) == 0:\n",
    "        continuous_event.append(current_type)\n",
    "    try:\n",
    "        start_timestamp1 = hf_data[i]['moments'][0]['timestamp']\n",
    "        end_timestamp1 = hf_data[i]['moments'][-1]['timestamp']\n",
    "        start_timestamp2 = hf_data[i+1]['moments'][0]['timestamp']\n",
    "        end_timestamp2 = hf_data[i+1]['moments'][-1]['timestamp']\n",
    "    except:\n",
    "        continue\n",
    "    next_contained_in_current = start_timestamp2 >= start_timestamp1 and end_timestamp2 <= end_timestamp1 \n",
    "    current_contained_in_next = start_timestamp1 >= start_timestamp2 and end_timestamp1 <= end_timestamp2\n",
    "    \n",
    "    # If the timestamps of the two events are the same, consider it a continguous string of events\n",
    "    if (start_timestamp1 == start_timestamp2) and (end_timestamp1 == end_timestamp2):\n",
    "        next_type = hf_data[i+1]['event_info']['type']\n",
    "        continuous_event.append(next_type)\n",
    "    else:\n",
    "        if len(continuous_event) > 1:\n",
    "            after_set.add(tuple(continuous_event))\n",
    "        continuous_event = []\n",
    "after_set"
   ]
  },
  {
   "cell_type": "markdown",
   "metadata": {},
   "source": [
    "## Remove moments assigned to multiple events"
   ]
  },
  {
   "cell_type": "code",
   "execution_count": 9,
   "metadata": {},
   "outputs": [
    {
     "name": "stdout",
     "output_type": "stream",
     "text": [
      "482\n",
      "163\n"
     ]
    }
   ],
   "source": [
    "cleaned_data = []\n",
    "\n",
    "continuous_events = {\n",
    "    'indices': [],\n",
    "    'event_type': []\n",
    "}\n",
    "for i in range(len(hf_data)-1):\n",
    "    current_type = hf_data[i]['event_info']['type']\n",
    "    \n",
    "    # If the continuous events list is empty, add the current event to it\n",
    "    if len(continuous_events['indices']) == 0:\n",
    "        continuous_events['indices'].append(i)\n",
    "        continuous_events['event_type'].append(current_type)\n",
    "    try:\n",
    "        #Get start and end of the current and next event\n",
    "        start_timestamp1 = hf_data[i]['moments'][0]['timestamp']\n",
    "        end_timestamp1 = hf_data[i]['moments'][-1]['timestamp']\n",
    "        start_timestamp2 = hf_data[i+1]['moments'][0]['timestamp']\n",
    "        end_timestamp2 = hf_data[i+1]['moments'][-1]['timestamp']\n",
    "    except:\n",
    "        continue\n",
    "    \n",
    "    # If next event and current event are duplicates, add the next event to the continuous events list\n",
    "    if (start_timestamp1 == start_timestamp2) and (end_timestamp1 == end_timestamp2):\n",
    "        next_type = hf_data[i+1]['event_info']['type']\n",
    "        continuous_events['indices'].append(i+1)\n",
    "        continuous_events['event_type'].append(next_type)\n",
    "    \n",
    "    # If the next event is not a duplicate\n",
    "    else:\n",
    "        if len(continuous_events['indices']) > 1:\n",
    "            \n",
    "            # If the continuous event includes a made shot, use it as the event data for posession purposes\n",
    "            if 1 in continuous_events['event_type']:\n",
    "                proper_index = continuous_events['indices'][continuous_events['event_type'].index(1)]\n",
    "                cleaned_data.append(hf_data[proper_index])\n",
    "            \n",
    "            # If the continuous eevnt does not include a made shot but includes a missed shot, use it as the event data for posession purposes\n",
    "            elif 2 in continuous_events['event_type']:\n",
    "                proper_index = continuous_events['indices'][continuous_events['event_type'].index(2)]\n",
    "                cleaned_data.append(hf_data[proper_index])\n",
    "        \n",
    "        # If there is only one event in the continuous events list\n",
    "        else:\n",
    "            # If the event is a shot, add it to the cleaned data\n",
    "            if hf_data[i]['event_info']['type'] in [1, 2]:\n",
    "                cleaned_data.append(hf_data[i])\n",
    "        \n",
    "        # Reset the continuous events list\n",
    "        continuous_events = {\n",
    "            'indices': [],\n",
    "            'event_type': []\n",
    "        }\n",
    "print(len(hf_data))\n",
    "print(len(cleaned_data))"
   ]
  },
  {
   "cell_type": "markdown",
   "metadata": {},
   "source": [
    "## Investigate overlap\n",
    "\n",
    "It seems that there is overlap between consecutive events even after deduplication"
   ]
  },
  {
   "cell_type": "code",
   "execution_count": 10,
   "metadata": {},
   "outputs": [
    {
     "name": "stdout",
     "output_type": "stream",
     "text": [
      "4: 14.0%\n",
      "7: 14.0%\n",
      "9: 19.0%\n",
      "10: 14.0%\n",
      "12: 19.0%\n",
      "14: 12.0%\n",
      "15: 16.0%\n",
      "16: Next contained in the current\n",
      "18: 17.0%\n",
      "19: 18.0%\n",
      "20: 24.0%\n",
      "26: 17.0%\n",
      "28: 26.0%\n",
      "31: 18.0%\n",
      "34: 18.0%\n",
      "35: 18.0%\n",
      "36: 19.0%\n",
      "40: 11.0%\n",
      "41: Next contained in the current\n",
      "43: 14.0%\n",
      "46: 21.0%\n",
      "48: 20.0%\n",
      "50: 15.0%\n",
      "51: 18.0%\n",
      "52: 18.0%\n",
      "53: 21.0%\n",
      "55: 11.0%\n",
      "56: 12.0%\n",
      "57: 13.0%\n",
      "58: 14.0%\n",
      "59: 12.0%\n",
      "60: 5.0%\n",
      "61: 5.0%\n",
      "62: 13.0%\n",
      "63: 23.0%\n",
      "64: 13.0%\n",
      "65: 16.0%\n",
      "67: 18.0%\n",
      "69: 10.0%\n",
      "71: 15.0%\n",
      "73: 15.0%\n",
      "74: 17.0%\n",
      "76: 27.0%\n",
      "77: 19.0%\n",
      "79: 19.0%\n",
      "80: 20.0%\n",
      "82: 10.0%\n",
      "84: 18.0%\n",
      "88: 12.0%\n",
      "89: 13.0%\n",
      "93: 14.0%\n",
      "94: 15.0%\n",
      "96: 18.0%\n",
      "97: 21.0%\n",
      "98: 17.0%\n",
      "99: 16.0%\n",
      "100: 9.0%\n",
      "102: 11.0%\n",
      "103: 15.0%\n",
      "105: Next contained in the current\n",
      "107: 11.0%\n",
      "108: 11.0%\n",
      "112: 34.0%\n",
      "116: 7.0%\n",
      "119: 12.0%\n",
      "120: 15.0%\n",
      "121: 18.0%\n",
      "122: 13.0%\n",
      "123: 7.0%\n",
      "124: 15.0%\n",
      "128: 16.0%\n",
      "129: 15.0%\n",
      "130: 16.0%\n",
      "132: 1.0%\n",
      "133: 6.0%\n",
      "134: 22.0%\n",
      "135: 12.0%\n",
      "136: 15.0%\n",
      "137: Current contained in the next\n",
      "138: 26.0%\n",
      "142: 13.0%\n",
      "143: 16.0%\n",
      "145: 3.0%\n",
      "146: 10.0%\n",
      "147: 23.0%\n",
      "149: 12.0%\n",
      "150: 9.0%\n",
      "153: 14.0%\n",
      "156: 11.0%\n",
      "158: 23.0%\n",
      "159: 17.0%\n",
      "91\n"
     ]
    }
   ],
   "source": [
    "total_moments = 0\n",
    "for i in range(len(cleaned_data)-1):\n",
    "\n",
    "    start_timestamp1 = cleaned_data[i]['moments'][0]['timestamp']\n",
    "    end_timestamp1 = cleaned_data[i]['moments'][-1]['timestamp']\n",
    "    start_timestamp2 = cleaned_data[i+1]['moments'][0]['timestamp']\n",
    "    end_timestamp2 = cleaned_data[i+1]['moments'][-1]['timestamp']\n",
    "    duration1 = end_timestamp1 - start_timestamp1\n",
    "    duration2 = end_timestamp2 - start_timestamp2\n",
    "\n",
    "    if start_timestamp2 <= end_timestamp1:\n",
    "        overlap = end_timestamp1 - start_timestamp2\n",
    "        if overlap >= duration1:\n",
    "            print(f\"{i}: Current contained in the next\")\n",
    "        elif overlap >= duration2:\n",
    "            print(f\"{i}: Next contained in the current\")\n",
    "        else:\n",
    "            overlap_fraction = overlap / (duration1 + duration2)\n",
    "            print(f\"{i}: {round(100*overlap_fraction, 0)}%\")\n",
    "        total_moments += 1\n",
    "print(total_moments)"
   ]
  },
  {
   "cell_type": "markdown",
   "metadata": {},
   "source": [
    "## Remove overlap\n",
    "Removing overlap by finding:\n",
    "* Which side the offensive team is shooting on\n",
    "* Removing any frames where the halfcourt offense is not in motion, defined as not all 5 offensive players being in the halfcourt"
   ]
  },
  {
   "cell_type": "code",
   "execution_count": 11,
   "metadata": {},
   "outputs": [
    {
     "name": "stdout",
     "output_type": "stream",
     "text": [
      "59: 16.0%\n",
      "67: 3.0%\n",
      "130: Current contained in the next\n",
      "3\n"
     ]
    }
   ],
   "source": [
    "rim_locations = {\n",
    "    'left': {\n",
    "        'x': 5.25,\n",
    "        'y': 25,\n",
    "        'z': 10\n",
    "    },\n",
    "    'right': {\n",
    "        'x': 88.75,\n",
    "        'y': 25,\n",
    "        'z': 10\n",
    "    }\n",
    "}\n",
    "\n",
    "shot_attempt_radius = 3\n",
    "\n",
    "def euclidean_distance_2d(point1, point2):\n",
    "    \"\"\"Calculate the Euclidean distance between two points in 3D space.\"\"\"\n",
    "    return np.sqrt((point1['x'] - point2['x'])**2 + (point1['y'] - point2['y'])**2)\n",
    "\n",
    "def euclidean_distance_3d(point1, point2):\n",
    "    \"\"\"Calculate the Euclidean distance between two points in 3D space.\"\"\"\n",
    "    return np.sqrt((point1['x'] - point2['x'])**2 + (point1['y'] - point2['y'])**2 + (point1['z'] - point2['z'])**2)\n",
    "\n",
    "def determine_offensive_side(row, radius):\n",
    "    \"\"\"\n",
    "    Determine which side of the court contained more frames with the basketball coordinates\n",
    "    within a certain radius of the rim location.\n",
    "    \n",
    "    Parameters:\n",
    "    - ball_positions: List of dictionaries with keys 'x', 'y', 'z' representing the ball's coordinates in each frame.\n",
    "    - radius: The radius within which to check the ball's proximity to the rim.\n",
    "    \n",
    "    Returns:\n",
    "    - 'left' or 'right' indicating which side had more frames within the radius.\n",
    "    \"\"\"\n",
    "    left_count = 0\n",
    "    right_count = 0\n",
    "\n",
    "    moments = row['moments']\n",
    "    ball_positions = [{'x': moment['ball_coordinates']['x'], 'y': moment['ball_coordinates']['y'], 'z': moment['ball_coordinates']['z']} for moment in moments]\n",
    "    \n",
    "    # Calculate distance of the ball to the left and right rim over the entire moment. Pick which ever side has more frames where the ball is closer to that rim\n",
    "    for ball_pos in ball_positions:\n",
    "        left_distance = euclidean_distance_3d(ball_pos, rim_locations['left'])\n",
    "        right_distance = euclidean_distance_3d(ball_pos, rim_locations['right'])\n",
    "        \n",
    "        if left_distance <= radius:\n",
    "            left_count += 1\n",
    "        if right_distance <= radius:\n",
    "            right_count += 1\n",
    "    if left_count > right_count:\n",
    "        return 'left'\n",
    "    else:\n",
    "        return 'right'\n",
    "\n",
    "def assign_offensive_side(data):\n",
    "    \"\"\"\n",
    "    Assign the offensive side to each row in the dataset.\n",
    "    \n",
    "    Parameters:\n",
    "    - data: List of dictionaries representing each row in the dataset.\n",
    "    \n",
    "    Returns:\n",
    "    - List of dictionaries with an additional key 'offensive_side' indicating which side had more frames within the radius.\n",
    "    \"\"\"\n",
    "    \n",
    "    # Split the data into quarters\n",
    "    data_quarters = {\n",
    "        i: [row for row in data if row['moments'][0]['quarter'] == i]\n",
    "        for i in range(1, 5)\n",
    "    }\n",
    "\n",
    "    # Extract the home and away team ids\n",
    "    home_team_id = data[0]['home']['teamid']\n",
    "    away_team_id = data[0]['visitor']['teamid']\n",
    "    cleaned_data_sides = []\n",
    "    for quarter, rows in data_quarters.items():\n",
    "        side_counts = {\n",
    "            home_team_id: [],\n",
    "            away_team_id: []\n",
    "        }\n",
    "        # Determine the offensive side for each event in the quarter\n",
    "        for row in rows:\n",
    "            possession_team_id = row['event_info']['possession_team_id']\n",
    "            side = determine_offensive_side(row, shot_attempt_radius)\n",
    "            side_counts[possession_team_id].append(side)\n",
    "        \n",
    "        # Count the number of times each team was on the left and right side\n",
    "        home_team_counts = Counter(side_counts[home_team_id])\n",
    "        # away_team_counts = Counter(side_counts[away_team_id])\n",
    "\n",
    "        # Assign the side for which most possessions occured on for each team\n",
    "        if home_team_counts['left'] > home_team_counts['right']:\n",
    "            home_team_side = 'left'\n",
    "            away_team_side = 'right'\n",
    "        else:\n",
    "            home_team_side = 'right'\n",
    "            away_team_side = 'left'\n",
    "\n",
    "        # if away_team_counts['left'] > away_team_counts['right']:\n",
    "        #     away_team_side = 'left'\n",
    "        # else:\n",
    "        #     away_team_side = 'right'\n",
    "\n",
    "        # Add the correct court side to the event data\n",
    "        for row in rows:\n",
    "            possession_team_id = row['event_info']['possession_team_id']\n",
    "            if possession_team_id == home_team_id:\n",
    "                row['event_info']['offensive_side'] = home_team_side\n",
    "            else:\n",
    "                row['event_info']['offensive_side'] = away_team_side\n",
    "            cleaned_data_sides.append(row)\n",
    "    \n",
    "    return cleaned_data_sides\n",
    "\n",
    "def get_offensive_frames(row):\n",
    "    \"\"\"\n",
    "    Get the frames where the basketball was within a certain radius of the rim location.\n",
    "    \n",
    "    Parameters:\n",
    "    - ball_positions: List of dictionaries with keys 'x', 'y', 'z' representing the ball's coordinates in each frame.\n",
    "    \n",
    "    Returns:\n",
    "    - List of dictionaries with keys 'x', 'y', 'z' representing the ball's coordinates in each frame where it was within the radius.\n",
    "    \"\"\"\n",
    "    new_row = deepcopy(row)\n",
    "    offensive_frames = []\n",
    "    offensive_side = row['event_info']['offensive_side']\n",
    "    offensive_team_id =  row['event_info']['possession_team_id']\n",
    "    moments = row['moments']\n",
    "    for moment in moments:\n",
    "        player_xs = [player['x'] for player in moment['player_coordinates'] if player['teamid'] == offensive_team_id]\n",
    "        \n",
    "        # Check to see if all players are on the correct side of the court\n",
    "        if offensive_side == 'left':\n",
    "            if all([x <= 47 for x in player_xs]):\n",
    "                offensive_frames.append(moment)\n",
    "        else:\n",
    "            if all([x >= 47 for x in player_xs]):\n",
    "                offensive_frames.append(moment)\n",
    "    \n",
    "    new_row['moments'] = offensive_frames\n",
    "    return new_row\n",
    "\n",
    "cleaned_data_sides = assign_offensive_side(cleaned_data)\n",
    "\n",
    "cleaned_transition_data = []\n",
    "for i, row in enumerate(cleaned_data_sides):\n",
    "    offensive_frames = get_offensive_frames(row)\n",
    "    if len(offensive_frames['moments']) > 0:\n",
    "        cleaned_transition_data.append(offensive_frames)\n",
    "\n",
    "total_moments = 0\n",
    "for i in range(len(cleaned_transition_data)-1):\n",
    "\n",
    "    try:\n",
    "        start_timestamp1 = cleaned_transition_data[i]['moments'][0]['timestamp']\n",
    "        end_timestamp1 = cleaned_transition_data[i]['moments'][-1]['timestamp']\n",
    "        start_timestamp2 = cleaned_transition_data[i+1]['moments'][0]['timestamp']\n",
    "        end_timestamp2 = cleaned_transition_data[i+1]['moments'][-1]['timestamp']\n",
    "        duration1 = end_timestamp1 - start_timestamp1\n",
    "        duration2 = end_timestamp2 - start_timestamp2\n",
    "    except:\n",
    "        continue\n",
    "\n",
    "    if start_timestamp2 <= end_timestamp1:\n",
    "        overlap = end_timestamp1 - start_timestamp2\n",
    "        if overlap >= duration1:\n",
    "            print(f\"{i}: Current contained in the next\")\n",
    "        elif overlap >= duration2:\n",
    "            print(f\"{i}: Next contained in the current\")\n",
    "        else:\n",
    "            overlap_fraction = overlap / (duration1 + duration2)\n",
    "            print(f\"{i}: {round(100*overlap_fraction, 0)}%\")\n",
    "        total_moments += 1\n",
    "print(total_moments)"
   ]
  },
  {
   "cell_type": "markdown",
   "metadata": {},
   "source": [
    "# See what happened on the play\n",
    "The sections below write in text what happened during the event and plot the ball location. This allows us to investigate duplication and overlap issues and how well the solution is addressing those issues"
   ]
  },
  {
   "cell_type": "markdown",
   "metadata": {},
   "source": [
    "## Print out a description of what happened during an event as well as the previous event and the event after"
   ]
  },
  {
   "cell_type": "code",
   "execution_count": 12,
   "metadata": {},
   "outputs": [
    {
     "name": "stdout",
     "output_type": "stream",
     "text": [
      "---------------[Event ID: 24]---------------\n",
      "nan\n",
      "Randle 6' Turnaround Hook Shot (2 PTS)\n",
      "Quarter: 1 - Time: 4:16\n",
      "Quarter: 1 - Time: 4:5\n",
      "\n",
      "---------------[Event ID: 25]---------------\n",
      "nan\n",
      "MISS Russell 11' Floating Jump Shot\n",
      "Quarter: 1 - Time: 3:49\n",
      "Quarter: 1 - Time: 3:40\n",
      "\n",
      "---------------[Event ID: 26]---------------\n",
      "Crowder 25' 3PT Jump Shot (12 PTS) (Thomas 3 AST)\n",
      "nan\n",
      "Quarter: 1 - Time: 3:35\n",
      "Quarter: 1 - Time: 3:30\n"
     ]
    }
   ],
   "source": [
    "test_idx = 25\n",
    "dataset = cleaned_transition_data\n",
    "print(\"---\"*5 + f\"[Event ID: {test_idx-1}]\" + \"---\"*5)\n",
    "\n",
    "try:\n",
    "    print(dataset[test_idx-1]['event_info']['desc_home'])\n",
    "    print(dataset[test_idx-1]['event_info']['desc_away'])\n",
    "    print(f\"Quarter: {dataset[test_idx-1]['moments'][0]['quarter']} - Time: {int(dataset[test_idx-1]['moments'][0]['game_clock']/60)}:{int(dataset[test_idx-1]['moments'][0]['game_clock']%60)}\")\n",
    "    print(f\"Quarter: {dataset[test_idx-1]['moments'][-1]['quarter']} - Time: {int(dataset[test_idx-1]['moments'][-1]['game_clock']/60)}:{int(dataset[test_idx-1]['moments'][-1]['game_clock']%60)}\\n\")\n",
    "except:\n",
    "    print(\"Error processing event\")\n",
    "\n",
    "print(\"---\"*5 + f\"[Event ID: {test_idx}]\" + \"---\"*5)\n",
    "try:\n",
    "    print(dataset[test_idx]['event_info']['desc_home'])\n",
    "    print(dataset[test_idx]['event_info']['desc_away'])\n",
    "    print(f\"Quarter: {dataset[test_idx]['moments'][0]['quarter']} - Time: {int(dataset[test_idx]['moments'][0]['game_clock']/60)}:{int(dataset[test_idx]['moments'][0]['game_clock']%60)}\")\n",
    "    print(f\"Quarter: {dataset[test_idx]['moments'][-1]['quarter']} - Time: {int(dataset[test_idx]['moments'][-1]['game_clock']/60)}:{int(dataset[test_idx]['moments'][-1]['game_clock']%60)}\\n\")\n",
    "except:\n",
    "    print(\"Error processing event\")\n",
    "\n",
    "\n",
    "print(\"---\"*5 + f\"[Event ID: {test_idx+1}]\" + \"---\"*5)\n",
    "try:\n",
    "    print(dataset[test_idx+1]['event_info']['desc_home'])\n",
    "    print(dataset[test_idx+1]['event_info']['desc_away'])\n",
    "    print(f\"Quarter: {dataset[test_idx+1]['moments'][0]['quarter']} - Time: {int(dataset[test_idx+1]['moments'][0]['game_clock']/60)}:{int(dataset[test_idx+1]['moments'][0]['game_clock']%60)}\")\n",
    "    print(f\"Quarter: {dataset[test_idx+1]['moments'][-1]['quarter']} - Time: {int(dataset[test_idx+1]['moments'][-1]['game_clock']/60)}:{int(dataset[test_idx+1]['moments'][-1]['game_clock']%60)}\")\n",
    "except:\n",
    "    print(\"Error processing event\")\n"
   ]
  },
  {
   "cell_type": "markdown",
   "metadata": {},
   "source": [
    "## Plot ball location of the play"
   ]
  },
  {
   "cell_type": "code",
   "execution_count": 13,
   "metadata": {},
   "outputs": [
    {
     "data": {
      "text/plain": [
       "<matplotlib.collections.PathCollection at 0x2541cd34590>"
      ]
     },
     "execution_count": 13,
     "metadata": {},
     "output_type": "execute_result"
    },
    {
     "data": {
      "image/png": "[encoded data removed]",
      "text/plain": [
       "<Figure size 640x480 with 1 Axes>"
      ]
     },
     "metadata": {},
     "output_type": "display_data"
    }
   ],
   "source": [
    "idx1 = 25\n",
    "dataset = cleaned_data\n",
    "\n",
    "moments = dataset[idx1]['moments']\n",
    "x_positions = [moment['ball_coordinates']['x'] for moment in moments]\n",
    "y_positions = [50 - moment['ball_coordinates']['y'] for moment in moments]\n",
    "\n",
    "# Convert lists to numpy arrays for easier handling\n",
    "x_positions = np.array(x_positions)\n",
    "y_positions = np.array(y_positions)\n",
    "\n",
    "court = NBACourt(x_trans=47, y_trans=25)\n",
    "fig, ax = plt.subplots(1, 1)\n",
    "court.draw(ax = ax)\n",
    "court.scatter(\n",
    "    x_positions,\n",
    "    y_positions,\n",
    "    s=10\n",
    ")"
   ]
  },
  {
   "cell_type": "code",
   "execution_count": 14,
   "metadata": {},
   "outputs": [
    {
     "data": {
      "text/plain": [
       "<matplotlib.collections.PathCollection at 0x2541d1e7610>"
      ]
     },
     "execution_count": 14,
     "metadata": {},
     "output_type": "execute_result"
    },
    {
     "data": {
      "image/png": "[encoded data removed]",
      "text/plain": [
       "<Figure size 640x480 with 1 Axes>"
      ]
     },
     "metadata": {},
     "output_type": "display_data"
    }
   ],
   "source": [
    "idx2 = 25\n",
    "dataset = cleaned_transition_data\n",
    "\n",
    "moments = dataset[idx2]['moments']\n",
    "x_positions = [moment['ball_coordinates']['x'] for moment in moments]\n",
    "y_positions = [50 - moment['ball_coordinates']['y'] for moment in moments]\n",
    "\n",
    "# Convert lists to numpy arrays for easier handling\n",
    "x_positions = np.array(x_positions)\n",
    "y_positions = np.array(y_positions)\n",
    "\n",
    "court = NBACourt(x_trans=47, y_trans=25)\n",
    "fig, ax = plt.subplots(1, 1)\n",
    "court.draw(ax = ax)\n",
    "court.scatter(\n",
    "    x_positions,\n",
    "    y_positions,\n",
    "    s=10\n",
    ")"
   ]
  },
  {
   "cell_type": "code",
   "execution_count": null,
   "metadata": {},
   "outputs": [],
   "source": []
  }
 ],
 "metadata": {
  "kernelspec": {
   "display_name": "Python 3",
   "language": "python",
   "name": "python3"
  },
  "language_info": {
   "codemirror_mode": {
    "name": "ipython",
    "version": 3
   },
   "file_extension": ".py",
   "mimetype": "text/x-python",
   "name": "python",
   "nbconvert_exporter": "python",
   "pygments_lexer": "ipython3",
   "version": "3.11.5"
  }
 },
 "nbformat": 4,
 "nbformat_minor": 2
}
